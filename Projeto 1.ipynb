{
 "cells": [
  {
   "cell_type": "markdown",
   "metadata": {},
   "source": [
    "# Projeto 1 - Ciência dos dados\n",
    "\n",
    "### Por: Felipe Centurion Bellini - Engenharia 2A\n",
    "\n",
    "\n",
    "O HIV, marcou algumas gerações, principalmente quem viveu entre as décadas de 60 a 80, hoje, já com um menor número de infectados e mortes essa doença ainda acaba afetando ainda um elevado número de pessoas. Muito se ouve de acordo com o censo comum que o HIV assombra países que possuem um menor IDH e uma baixa porcentagem de saneamento básico, mas isso é o censo comum, não? Para isso temos a nossa pergunta abaixo.\n",
    "\n",
    "\n",
    "\"É fácil relacionar como o IDH é influenciado com o mínimo de saneamento básico e de acordo com o censo comum, quanto mais precário são esses dois as chances de haver mortes por HIV tendem a serem maiores, mas o quanto isso realmente é verdade?\"\n",
    "\n",
    "Nesse projeto, portanto usaremos como fatores de comparação o IDH, o saneamento básico e o número de mortes por HIV, sendo na primeira avaliação usado o ano 2000\"\n",
    "\n"
   ]
  },
  {
   "cell_type": "code",
   "execution_count": 14,
   "metadata": {},
   "outputs": [],
   "source": [
    "%matplotlib inline\n",
    "import pandas as pd\n",
    "import matplotlib.pyplot as plt\n",
    "import numpy as np"
   ]
  },
  {
   "cell_type": "code",
   "execution_count": 15,
   "metadata": {},
   "outputs": [],
   "source": [
    "idh = pd.read_excel('hdi_human_development_index.xlsx')\n",
    "saneamento = pd.read_excel('at_least_basic_sanitation_overall_access_percent.xlsx')\n",
    "hiv = pd.read_excel('annual_hiv_deaths_number_all_ages.xlsx')"
   ]
  },
  {
   "cell_type": "markdown",
   "metadata": {},
   "source": [
    "\n",
    "Mantendo apenas um determinado ano (2010):"
   ]
  },
  {
   "cell_type": "code",
   "execution_count": 16,
   "metadata": {},
   "outputs": [],
   "source": [
    "idh_2000 = idh.loc[:, [\"IDH\", 2000]]\n",
    "saneamento_2000 = saneamento.loc[:, [\"Saneamento Básico\", 2000]]\n",
    "hiv_2000 = hiv.loc[:, [\"HIV\", 2000]]"
   ]
  },
  {
   "cell_type": "markdown",
   "metadata": {},
   "source": [
    "Mudando os índices:"
   ]
  },
  {
   "cell_type": "code",
   "execution_count": 17,
   "metadata": {},
   "outputs": [],
   "source": [
    "idh_idx = idh_2000.set_index('IDH')\n",
    "saneamento_idx = saneamento_2000.set_index('Saneamento Básico')\n",
    "hiv_idx = hiv_2000.set_index('HIV')"
   ]
  },
  {
   "cell_type": "markdown",
   "metadata": {},
   "source": [
    "Renomeando as colunas das duas primeiras tabelas e juntando as mesmas:"
   ]
  },
  {
   "cell_type": "code",
   "execution_count": 18,
   "metadata": {},
   "outputs": [
    {
     "data": {
      "text/html": [
       "<div>\n",
       "<style scoped>\n",
       "    .dataframe tbody tr th:only-of-type {\n",
       "        vertical-align: middle;\n",
       "    }\n",
       "\n",
       "    .dataframe tbody tr th {\n",
       "        vertical-align: top;\n",
       "    }\n",
       "\n",
       "    .dataframe thead th {\n",
       "        text-align: right;\n",
       "    }\n",
       "</style>\n",
       "<table border=\"1\" class=\"dataframe\">\n",
       "  <thead>\n",
       "    <tr style=\"text-align: right;\">\n",
       "      <th></th>\n",
       "      <th>2000_IDH</th>\n",
       "      <th>2000_Saneamento Básico</th>\n",
       "    </tr>\n",
       "  </thead>\n",
       "  <tbody>\n",
       "    <tr>\n",
       "      <th>Afghanistan</th>\n",
       "      <td>0.340</td>\n",
       "      <td>23.9</td>\n",
       "    </tr>\n",
       "    <tr>\n",
       "      <th>Albania</th>\n",
       "      <td>0.662</td>\n",
       "      <td>88.3</td>\n",
       "    </tr>\n",
       "    <tr>\n",
       "      <th>Algeria</th>\n",
       "      <td>0.644</td>\n",
       "      <td>83.7</td>\n",
       "    </tr>\n",
       "    <tr>\n",
       "      <th>Andorra</th>\n",
       "      <td>NaN</td>\n",
       "      <td>100.0</td>\n",
       "    </tr>\n",
       "    <tr>\n",
       "      <th>Angola</th>\n",
       "      <td>0.391</td>\n",
       "      <td>20.5</td>\n",
       "    </tr>\n",
       "    <tr>\n",
       "      <th>Antigua and Barbuda</th>\n",
       "      <td>NaN</td>\n",
       "      <td>82.4</td>\n",
       "    </tr>\n",
       "    <tr>\n",
       "      <th>Argentina</th>\n",
       "      <td>0.771</td>\n",
       "      <td>94.8</td>\n",
       "    </tr>\n",
       "    <tr>\n",
       "      <th>Armenia</th>\n",
       "      <td>0.644</td>\n",
       "      <td>90.4</td>\n",
       "    </tr>\n",
       "    <tr>\n",
       "      <th>Australia</th>\n",
       "      <td>0.899</td>\n",
       "      <td>100.0</td>\n",
       "    </tr>\n",
       "    <tr>\n",
       "      <th>Austria</th>\n",
       "      <td>0.837</td>\n",
       "      <td>100.0</td>\n",
       "    </tr>\n",
       "  </tbody>\n",
       "</table>\n",
       "</div>"
      ],
      "text/plain": [
       "                     2000_IDH  2000_Saneamento Básico\n",
       "Afghanistan             0.340                    23.9\n",
       "Albania                 0.662                    88.3\n",
       "Algeria                 0.644                    83.7\n",
       "Andorra                   NaN                   100.0\n",
       "Angola                  0.391                    20.5\n",
       "Antigua and Barbuda       NaN                    82.4\n",
       "Argentina               0.771                    94.8\n",
       "Armenia                 0.644                    90.4\n",
       "Australia               0.899                   100.0\n",
       "Austria                 0.837                   100.0"
      ]
     },
     "execution_count": 18,
     "metadata": {},
     "output_type": "execute_result"
    }
   ],
   "source": [
    "df = idh_idx.join(saneamento_idx, how='inner', lsuffix='_IDH', rsuffix='_Saneamento Básico')\n",
    "df.head(10)"
   ]
  },
  {
   "cell_type": "markdown",
   "metadata": {},
   "source": [
    "Renomeando e juntando a terceira tabela às demais:"
   ]
  },
  {
   "cell_type": "code",
   "execution_count": 19,
   "metadata": {},
   "outputs": [
    {
     "data": {
      "text/html": [
       "<div>\n",
       "<style scoped>\n",
       "    .dataframe tbody tr th:only-of-type {\n",
       "        vertical-align: middle;\n",
       "    }\n",
       "\n",
       "    .dataframe tbody tr th {\n",
       "        vertical-align: top;\n",
       "    }\n",
       "\n",
       "    .dataframe thead th {\n",
       "        text-align: right;\n",
       "    }\n",
       "</style>\n",
       "<table border=\"1\" class=\"dataframe\">\n",
       "  <thead>\n",
       "    <tr style=\"text-align: right;\">\n",
       "      <th></th>\n",
       "      <th>2000_IDH</th>\n",
       "      <th>2000_Saneamento Básico</th>\n",
       "      <th>2000_HIV</th>\n",
       "    </tr>\n",
       "  </thead>\n",
       "  <tbody>\n",
       "    <tr>\n",
       "      <th>Afghanistan</th>\n",
       "      <td>0.340</td>\n",
       "      <td>23.9</td>\n",
       "      <td>150.0</td>\n",
       "    </tr>\n",
       "    <tr>\n",
       "      <th>Algeria</th>\n",
       "      <td>0.644</td>\n",
       "      <td>83.7</td>\n",
       "      <td>120.0</td>\n",
       "    </tr>\n",
       "    <tr>\n",
       "      <th>Angola</th>\n",
       "      <td>0.391</td>\n",
       "      <td>20.5</td>\n",
       "      <td>9200.0</td>\n",
       "    </tr>\n",
       "    <tr>\n",
       "      <th>Argentina</th>\n",
       "      <td>0.771</td>\n",
       "      <td>94.8</td>\n",
       "      <td>2700.0</td>\n",
       "    </tr>\n",
       "    <tr>\n",
       "      <th>Armenia</th>\n",
       "      <td>0.644</td>\n",
       "      <td>90.4</td>\n",
       "      <td>150.0</td>\n",
       "    </tr>\n",
       "    <tr>\n",
       "      <th>Australia</th>\n",
       "      <td>0.899</td>\n",
       "      <td>100.0</td>\n",
       "      <td>150.0</td>\n",
       "    </tr>\n",
       "    <tr>\n",
       "      <th>Austria</th>\n",
       "      <td>0.837</td>\n",
       "      <td>100.0</td>\n",
       "      <td>60.0</td>\n",
       "    </tr>\n",
       "    <tr>\n",
       "      <th>Azerbaijan</th>\n",
       "      <td>0.642</td>\n",
       "      <td>65.6</td>\n",
       "      <td>150.0</td>\n",
       "    </tr>\n",
       "    <tr>\n",
       "      <th>Bahamas</th>\n",
       "      <td>0.779</td>\n",
       "      <td>88.6</td>\n",
       "      <td>600.0</td>\n",
       "    </tr>\n",
       "    <tr>\n",
       "      <th>Bangladesh</th>\n",
       "      <td>0.468</td>\n",
       "      <td>25.3</td>\n",
       "      <td>60.0</td>\n",
       "    </tr>\n",
       "  </tbody>\n",
       "</table>\n",
       "</div>"
      ],
      "text/plain": [
       "             2000_IDH  2000_Saneamento Básico  2000_HIV\n",
       "Afghanistan     0.340                    23.9     150.0\n",
       "Algeria         0.644                    83.7     120.0\n",
       "Angola          0.391                    20.5    9200.0\n",
       "Argentina       0.771                    94.8    2700.0\n",
       "Armenia         0.644                    90.4     150.0\n",
       "Australia       0.899                   100.0     150.0\n",
       "Austria         0.837                   100.0      60.0\n",
       "Azerbaijan      0.642                    65.6     150.0\n",
       "Bahamas         0.779                    88.6     600.0\n",
       "Bangladesh      0.468                    25.3      60.0"
      ]
     },
     "execution_count": 19,
     "metadata": {},
     "output_type": "execute_result"
    }
   ],
   "source": [
    "hiv_idx[\"2000_HIV\"] = hiv_idx.pop(2000)\n",
    "dados = df.join(hiv_idx, how='inner')\n",
    "dados = dados.dropna()\n",
    "dados.head(10)"
   ]
  },
  {
   "cell_type": "markdown",
   "metadata": {},
   "source": [
    "Agora, salvando um arquivo com a tabela já editada:"
   ]
  },
  {
   "cell_type": "code",
   "execution_count": 20,
   "metadata": {},
   "outputs": [],
   "source": [
    "tabela = dados.to_csv()\n",
    "\n",
    "with open('arquivo.csv', 'w') as aloo:\n",
    "    aloo.write(tabela)"
   ]
  },
  {
   "cell_type": "markdown",
   "metadata": {},
   "source": [
    "Separando agora o arquivo com somente os países com alto IDH (esses mesmos portanto apresentam também uma alta porcentagem de saneamento básico) e analisando o gráfico de dispersão em relação ao HIV no ano 2000:"
   ]
  },
  {
   "cell_type": "code",
   "execution_count": 21,
   "metadata": {},
   "outputs": [
    {
     "data": {
      "text/html": [
       "<div>\n",
       "<style scoped>\n",
       "    .dataframe tbody tr th:only-of-type {\n",
       "        vertical-align: middle;\n",
       "    }\n",
       "\n",
       "    .dataframe tbody tr th {\n",
       "        vertical-align: top;\n",
       "    }\n",
       "\n",
       "    .dataframe thead th {\n",
       "        text-align: right;\n",
       "    }\n",
       "</style>\n",
       "<table border=\"1\" class=\"dataframe\">\n",
       "  <thead>\n",
       "    <tr style=\"text-align: right;\">\n",
       "      <th></th>\n",
       "      <th>2000_IDH</th>\n",
       "      <th>2000_Saneamento Básico</th>\n",
       "      <th>2000_HIV</th>\n",
       "    </tr>\n",
       "  </thead>\n",
       "  <tbody>\n",
       "    <tr>\n",
       "      <th>Australia</th>\n",
       "      <td>0.899</td>\n",
       "      <td>100.0</td>\n",
       "      <td>150.0</td>\n",
       "    </tr>\n",
       "    <tr>\n",
       "      <th>Austria</th>\n",
       "      <td>0.837</td>\n",
       "      <td>100.0</td>\n",
       "      <td>60.0</td>\n",
       "    </tr>\n",
       "    <tr>\n",
       "      <th>Belgium</th>\n",
       "      <td>0.873</td>\n",
       "      <td>99.5</td>\n",
       "      <td>60.0</td>\n",
       "    </tr>\n",
       "    <tr>\n",
       "      <th>Canada</th>\n",
       "      <td>0.867</td>\n",
       "      <td>98.5</td>\n",
       "      <td>350.0</td>\n",
       "    </tr>\n",
       "    <tr>\n",
       "      <th>Czech Republic</th>\n",
       "      <td>0.821</td>\n",
       "      <td>99.1</td>\n",
       "      <td>60.0</td>\n",
       "    </tr>\n",
       "    <tr>\n",
       "      <th>Denmark</th>\n",
       "      <td>0.862</td>\n",
       "      <td>99.6</td>\n",
       "      <td>60.0</td>\n",
       "    </tr>\n",
       "    <tr>\n",
       "      <th>Finland</th>\n",
       "      <td>0.856</td>\n",
       "      <td>99.4</td>\n",
       "      <td>60.0</td>\n",
       "    </tr>\n",
       "    <tr>\n",
       "      <th>France</th>\n",
       "      <td>0.849</td>\n",
       "      <td>98.7</td>\n",
       "      <td>1800.0</td>\n",
       "    </tr>\n",
       "    <tr>\n",
       "      <th>Germany</th>\n",
       "      <td>0.860</td>\n",
       "      <td>99.2</td>\n",
       "      <td>600.0</td>\n",
       "    </tr>\n",
       "    <tr>\n",
       "      <th>Greece</th>\n",
       "      <td>0.801</td>\n",
       "      <td>96.6</td>\n",
       "      <td>150.0</td>\n",
       "    </tr>\n",
       "    <tr>\n",
       "      <th>Iceland</th>\n",
       "      <td>0.854</td>\n",
       "      <td>98.8</td>\n",
       "      <td>60.0</td>\n",
       "    </tr>\n",
       "    <tr>\n",
       "      <th>Ireland</th>\n",
       "      <td>0.857</td>\n",
       "      <td>88.6</td>\n",
       "      <td>60.0</td>\n",
       "    </tr>\n",
       "    <tr>\n",
       "      <th>Israel</th>\n",
       "      <td>0.850</td>\n",
       "      <td>100.0</td>\n",
       "      <td>60.0</td>\n",
       "    </tr>\n",
       "    <tr>\n",
       "      <th>Japan</th>\n",
       "      <td>0.856</td>\n",
       "      <td>100.0</td>\n",
       "      <td>150.0</td>\n",
       "    </tr>\n",
       "    <tr>\n",
       "      <th>Luxembourg</th>\n",
       "      <td>0.854</td>\n",
       "      <td>97.7</td>\n",
       "      <td>60.0</td>\n",
       "    </tr>\n",
       "    <tr>\n",
       "      <th>Netherlands</th>\n",
       "      <td>0.878</td>\n",
       "      <td>98.1</td>\n",
       "      <td>350.0</td>\n",
       "    </tr>\n",
       "    <tr>\n",
       "      <th>New Zealand</th>\n",
       "      <td>0.868</td>\n",
       "      <td>100.0</td>\n",
       "      <td>60.0</td>\n",
       "    </tr>\n",
       "    <tr>\n",
       "      <th>Norway</th>\n",
       "      <td>0.917</td>\n",
       "      <td>98.1</td>\n",
       "      <td>60.0</td>\n",
       "    </tr>\n",
       "    <tr>\n",
       "      <th>Singapore</th>\n",
       "      <td>0.820</td>\n",
       "      <td>100.0</td>\n",
       "      <td>60.0</td>\n",
       "    </tr>\n",
       "    <tr>\n",
       "      <th>Slovenia</th>\n",
       "      <td>0.824</td>\n",
       "      <td>99.1</td>\n",
       "      <td>60.0</td>\n",
       "    </tr>\n",
       "    <tr>\n",
       "      <th>South Korea</th>\n",
       "      <td>0.820</td>\n",
       "      <td>100.0</td>\n",
       "      <td>60.0</td>\n",
       "    </tr>\n",
       "    <tr>\n",
       "      <th>Spain</th>\n",
       "      <td>0.825</td>\n",
       "      <td>99.9</td>\n",
       "      <td>2000.0</td>\n",
       "    </tr>\n",
       "    <tr>\n",
       "      <th>Sweden</th>\n",
       "      <td>0.877</td>\n",
       "      <td>99.3</td>\n",
       "      <td>60.0</td>\n",
       "    </tr>\n",
       "    <tr>\n",
       "      <th>Switzerland</th>\n",
       "      <td>0.888</td>\n",
       "      <td>99.9</td>\n",
       "      <td>60.0</td>\n",
       "    </tr>\n",
       "    <tr>\n",
       "      <th>United Kingdom</th>\n",
       "      <td>0.866</td>\n",
       "      <td>99.1</td>\n",
       "      <td>350.0</td>\n",
       "    </tr>\n",
       "    <tr>\n",
       "      <th>United States</th>\n",
       "      <td>0.884</td>\n",
       "      <td>100.0</td>\n",
       "      <td>20000.0</td>\n",
       "    </tr>\n",
       "  </tbody>\n",
       "</table>\n",
       "</div>"
      ],
      "text/plain": [
       "                2000_IDH  2000_Saneamento Básico  2000_HIV\n",
       "Australia          0.899                   100.0     150.0\n",
       "Austria            0.837                   100.0      60.0\n",
       "Belgium            0.873                    99.5      60.0\n",
       "Canada             0.867                    98.5     350.0\n",
       "Czech Republic     0.821                    99.1      60.0\n",
       "Denmark            0.862                    99.6      60.0\n",
       "Finland            0.856                    99.4      60.0\n",
       "France             0.849                    98.7    1800.0\n",
       "Germany            0.860                    99.2     600.0\n",
       "Greece             0.801                    96.6     150.0\n",
       "Iceland            0.854                    98.8      60.0\n",
       "Ireland            0.857                    88.6      60.0\n",
       "Israel             0.850                   100.0      60.0\n",
       "Japan              0.856                   100.0     150.0\n",
       "Luxembourg         0.854                    97.7      60.0\n",
       "Netherlands        0.878                    98.1     350.0\n",
       "New Zealand        0.868                   100.0      60.0\n",
       "Norway             0.917                    98.1      60.0\n",
       "Singapore          0.820                   100.0      60.0\n",
       "Slovenia           0.824                    99.1      60.0\n",
       "South Korea        0.820                   100.0      60.0\n",
       "Spain              0.825                    99.9    2000.0\n",
       "Sweden             0.877                    99.3      60.0\n",
       "Switzerland        0.888                    99.9      60.0\n",
       "United Kingdom     0.866                    99.1     350.0\n",
       "United States      0.884                   100.0   20000.0"
      ]
     },
     "execution_count": 21,
     "metadata": {},
     "output_type": "execute_result"
    }
   ],
   "source": [
    "dados_idh_alto = (dados[(dados['2000_IDH']>=0.800)])\n",
    "dados_idh_alto"
   ]
  },
  {
   "cell_type": "code",
   "execution_count": 22,
   "metadata": {
    "scrolled": true
   },
   "outputs": [
    {
     "data": {
      "image/png": "[encoded data removed]",
      "text/plain": [
       "<Figure size 432x288 with 1 Axes>"
      ]
     },
     "metadata": {},
     "output_type": "display_data"
    }
   ],
   "source": [
    "dados_idh_alto.plot.scatter(x='2000_IDH',y='2000_HIV', loglog=True);"
   ]
  },
  {
   "cell_type": "markdown",
   "metadata": {},
   "source": [
    "Agora analisando o gráfico de dispersão de HIV no ano 2000 por IDH de todos os países na tabela:"
   ]
  },
  {
   "cell_type": "code",
   "execution_count": 23,
   "metadata": {
    "scrolled": true
   },
   "outputs": [
    {
     "data": {
      "image/png": "[encoded data removed]",
      "text/plain": [
       "<Figure size 432x288 with 1 Axes>"
      ]
     },
     "metadata": {},
     "output_type": "display_data"
    }
   ],
   "source": [
    "dados.plot.scatter(x='2000_IDH',y='2000_HIV', loglog=True);"
   ]
  },
  {
   "cell_type": "markdown",
   "metadata": {},
   "source": [
    "Para melhor analisarmos como se comporta os nossos dados será plotado um gráfico de matriz:"
   ]
  },
  {
   "cell_type": "code",
   "execution_count": 24,
   "metadata": {
    "scrolled": false
   },
   "outputs": [
    {
     "data": {
      "image/png": "[encoded data removed]",
      "text/plain": [
       "<Figure size 720x720 with 9 Axes>"
      ]
     },
     "metadata": {},
     "output_type": "display_data"
    }
   ],
   "source": [
    "pd.plotting.scatter_matrix(dados, figsize=(10, 10));"
   ]
  },
  {
   "cell_type": "code",
   "execution_count": 25,
   "metadata": {},
   "outputs": [
    {
     "data": {
      "text/html": [
       "<div>\n",
       "<style scoped>\n",
       "    .dataframe tbody tr th:only-of-type {\n",
       "        vertical-align: middle;\n",
       "    }\n",
       "\n",
       "    .dataframe tbody tr th {\n",
       "        vertical-align: top;\n",
       "    }\n",
       "\n",
       "    .dataframe thead th {\n",
       "        text-align: right;\n",
       "    }\n",
       "</style>\n",
       "<table border=\"1\" class=\"dataframe\">\n",
       "  <thead>\n",
       "    <tr style=\"text-align: right;\">\n",
       "      <th></th>\n",
       "      <th>2000_IDH</th>\n",
       "      <th>2000_Saneamento Básico</th>\n",
       "      <th>2000_HIV</th>\n",
       "    </tr>\n",
       "  </thead>\n",
       "  <tbody>\n",
       "    <tr>\n",
       "      <th>2000_IDH</th>\n",
       "      <td>1.000000</td>\n",
       "      <td>0.887163</td>\n",
       "      <td>-0.293593</td>\n",
       "    </tr>\n",
       "    <tr>\n",
       "      <th>2000_Saneamento Básico</th>\n",
       "      <td>0.887163</td>\n",
       "      <td>1.000000</td>\n",
       "      <td>-0.324019</td>\n",
       "    </tr>\n",
       "    <tr>\n",
       "      <th>2000_HIV</th>\n",
       "      <td>-0.293593</td>\n",
       "      <td>-0.324019</td>\n",
       "      <td>1.000000</td>\n",
       "    </tr>\n",
       "  </tbody>\n",
       "</table>\n",
       "</div>"
      ],
      "text/plain": [
       "                        2000_IDH  2000_Saneamento Básico  2000_HIV\n",
       "2000_IDH                1.000000                0.887163 -0.293593\n",
       "2000_Saneamento Básico  0.887163                1.000000 -0.324019\n",
       "2000_HIV               -0.293593               -0.324019  1.000000"
      ]
     },
     "execution_count": 25,
     "metadata": {},
     "output_type": "execute_result"
    }
   ],
   "source": [
    "dados.corr()"
   ]
  },
  {
   "cell_type": "markdown",
   "metadata": {},
   "source": [
    "## Conclusão\n",
    "\n",
    "Conforme observado nos gráficos plotados no decorrer do projeto observamos uma relação entre os três dados analisados. Respondendo portanto a nossa pergunta através dos gráficos, que o censo comum não apresenta informações baseadas em muitos fundamentos. Mas com os gráficos vemos uma associação positiva, no entanto quando visto os valores de correlação do HIV no ano 2000 com os dados de IDH e de saneamento básico os valores apresentam negativos, não colaborando para a sustentação da hipótese.\n",
    "\n",
    "Com isso concluímos que infelizmente os dados esperados se mostraram presentes nos gráficos mas não na tabela.\n",
    "\n",
    "Com estas observações, nos questionamos que podemos concluir de acordo com as tabelas que há países com alto índice de IDH e de saneamento básico e com um alto número de mortes por HIV. Mas como a tabela de correlação prova ao contrário fica a dúvida de como podemos por intuição, por análise de dados e por informações históricas concluirmos que havia um correlação, então fica o questionamento de como poderíamos investigarmos isso melhor."
   ]
  }
 ],
 "metadata": {
  "kernelspec": {
   "display_name": "Python 3",
   "language": "python",
   "name": "python3"
  },
  "language_info": {
   "codemirror_mode": {
    "name": "ipython",
    "version": 3
   },
   "file_extension": ".py",
   "mimetype": "text/x-python",
   "name": "python",
   "nbconvert_exporter": "python",
   "pygments_lexer": "ipython3",
   "version": "3.6.5"
  }
 },
 "nbformat": 4,
 "nbformat_minor": 2
}
